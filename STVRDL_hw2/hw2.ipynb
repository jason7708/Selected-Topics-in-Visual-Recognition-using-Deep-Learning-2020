{
  "nbformat": 4,
  "nbformat_minor": 0,
  "metadata": {
    "colab": {
      "name": "hw2.ipynb",
      "provenance": [],
      "collapsed_sections": []
    },
    "kernelspec": {
      "name": "python3",
      "display_name": "Python 3"
    },
    "accelerator": "GPU"
  },
  "cells": [
    {
      "cell_type": "code",
      "metadata": {
        "id": "Rj6O6Jn93IOE"
      },
      "source": [
        "from __future__ import division\n",
        "\n",
        "from models import *\n",
        "from utils.utils import *\n",
        "from utils.datasets import *\n",
        "\n",
        "import os\n",
        "import sys\n",
        "import time\n",
        "import datetime\n",
        "import argparse\n",
        "import json\n",
        "\n",
        "from PIL import Image\n",
        "\n",
        "import torch\n",
        "from torch.utils.data import DataLoader\n",
        "from torchvision import datasets\n",
        "from torch.autograd import Variable\n"
      ],
      "execution_count": 18,
      "outputs": []
    },
    {
      "cell_type": "code",
      "metadata": {
        "id": "wr3DL7jcm6jw"
      },
      "source": [
        "device = torch.device(\"cuda\" if torch.cuda.is_available() else \"cpu\")\n",
        "model = Darknet(\"config/yolov3-custom.cfg\", img_size=416).to(device)\n",
        "model.load_state_dict(torch.load(\"yolov3_ckpt_9.pth\"))\n",
        "model.eval()"
      ],
      "execution_count": null,
      "outputs": []
    },
    {
      "cell_type": "code",
      "metadata": {
        "id": "W8YKVusttyQR"
      },
      "source": [
        "dataloader = DataLoader(\n",
        "    ImageFolder(\"data/custom/images/test\", img_size=416),\n",
        "    batch_size=1,\n",
        "    shuffle=False,\n",
        "    num_workers=0,\n",
        ")"
      ],
      "execution_count": 20,
      "outputs": []
    },
    {
      "cell_type": "code",
      "metadata": {
        "id": "jgR9mCRYuPak"
      },
      "source": [
        "classes = load_classes(\"data/custom/classes.names\")  # Extracts class labels from file\n",
        "\n",
        "Tensor = torch.cuda.FloatTensor if torch.cuda.is_available() else torch.FloatTensor\n",
        "\n",
        "imgs = []  # Stores image paths\n",
        "img_detections = []  # Stores detections for each image index\n",
        "\n",
        "prev_time = time.time()"
      ],
      "execution_count": 21,
      "outputs": []
    },
    {
      "cell_type": "code",
      "metadata": {
        "colab": {
          "base_uri": "https://localhost:8080/"
        },
        "id": "ZHsnRSKWvNbs",
        "outputId": "ad3c587a-8fbb-4c3b-a5c0-22c615cda3bb"
      },
      "source": [
        "%%timeit\n",
        "  for (path, img) in dataloader:\n",
        "    img = Variable(img.type(Tensor))\n",
        "    with torch.no_grad():\n",
        "      detection = model(img)"
      ],
      "execution_count": 29,
      "outputs": [
        {
          "output_type": "stream",
          "text": [
            "The slowest run took 7.17 times longer than the fastest. This could mean that an intermediate result is being cached.\n",
            "1 loop, best of 3: 160 ms per loop\n"
          ],
          "name": "stdout"
        }
      ]
    },
    {
      "cell_type": "code",
      "metadata": {
        "id": "QGE8TD-1sF08"
      },
      "source": [
        ""
      ],
      "execution_count": null,
      "outputs": []
    }
  ]
}